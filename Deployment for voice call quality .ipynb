{
 "cells": [
  {
   "cell_type": "code",
   "execution_count": 4,
   "id": "e4d28ccb-2a77-41eb-84d8-4c84f0a5d477",
   "metadata": {},
   "outputs": [],
   "source": [
    "import gradio as gr\n",
    "import pickle"
   ]
  },
  {
   "cell_type": "code",
   "execution_count": 5,
   "id": "c1a2fe0e-4e0a-45ac-be51-fa8310d78afb",
   "metadata": {},
   "outputs": [],
   "source": [
    "import warnings\n",
    "warnings.filterwarnings('ignore')"
   ]
  },
  {
   "cell_type": "code",
   "execution_count": 8,
   "id": "5264809d-258d-41b0-8fd3-bf6bfe0ded90",
   "metadata": {},
   "outputs": [],
   "source": [
    "# Load the model\n",
    "with open(\"xgbc_model.pkl\", \"rb\") as file:\n",
    "    final_model = pickle.load(file)"
   ]
  },
  {
   "cell_type": "code",
   "execution_count": 30,
   "id": "e8ee4d7f-dadf-46b0-bc89-315006c3e9e4",
   "metadata": {},
   "outputs": [],
   "source": [
    "# Lets define to make prediction\n",
    "\n",
    "def prediction(Operator,In_Out_Travelling, Network_Type, Call_Drop_Category,Latitude,Longitude,State_Name,Month,Region):\n",
    "    \n",
    "    input_data = [[Operator,In_Out_Travelling, Network_Type, Call_Drop_Category,Latitude,Longitude,State_Name,Month,Region]]\n",
    "    \n",
    "    pred = final_model.predict(input_data)\n",
    "    \n",
    "    if pred==0:\n",
    "        return 'Rating - 1'\n",
    "    elif pred ==1:\n",
    "        return 'Rating - 2' \n",
    "    elif pred ==2:\n",
    "        return 'Rating - 3'\n",
    "    elif pred ==3:\n",
    "        return 'Rating - 4'\n",
    "    else:\n",
    "        return 'Rating - 5' "
   ]
  },
  {
   "cell_type": "code",
   "execution_count": 48,
   "id": "298422ff-ffd2-4b89-aaf7-19a7d6afbda4",
   "metadata": {},
   "outputs": [],
   "source": [
    "iface = gr.Interface(fn=prediction,\n",
    "                    inputs=[gr.Dropdown([('Airtel',0),('BSNL',1),('Idea',2),('MTNL',3),('Others',4),('RJio',5),('Tata',6),('Vodafone',7)],label='Operator Name'),\n",
    "                           gr.Dropdown([('Indoor',0),('Outdoor',1),('Travelling',2)],label='In/Out/Travel'),\n",
    "                           gr.Dropdown([('2G',0),('3G',1),('4G',2),('Unknown',3)],label='Network Type'),\n",
    "                           gr.Dropdown([('Call Dropped',0),('Poor Voice Quality',1),('Satisfactory',2)],label='Please select the category that best describes your last call experience'),\n",
    "                           gr.Number(label='Enter the latitude of your location in India (Range : 8.4 - 37.6)'),\n",
    "                           gr.Number(label='Enter the longitude of your location in India (Range : 68.7 - 97.25)'),\n",
    "                           gr.Dropdown([('Andaman and Nicobar Islands',0),('Andhra Pradesh',1),('Assam',2),('Bihar',3),('Chandigarh', 4),\n",
    "                                        ('Chhattisgarh',5),('Dadra and Nagar Haveli',6),('Delhi',7),('Goa',8),('Gujarat',9),('Haryana',10),\n",
    "                                        ('Himachal Pradesh',11),('Jharkhand',12),('Karnataka',13),('Kashmir',14),('Kerala',15),('Madhya Pradesh',16),\n",
    "                                        ('Maharashtra',17),('Meghalaya',18),('Odisha',19),('Pondicherry',20),('Punjab',21),('Rajasthan',22),('Tamil Nadu',23),\n",
    "                                        ('Telangana',24),('Tripura',25),('Uttar Pradesh',26),('Uttarakhand',27),('West Bengal',28)],label='State Name'),\n",
    "                           gr.Dropdown([('August',0),('July',1),('September',2)],label='Select the Month'),\n",
    "                           gr.Dropdown([('Central',1),('East',0),('North',2),('Northeast',3),('South',4),('West',5)],label='Region')],\n",
    "                    \n",
    "                    outputs=gr.Textbox(label='Predicted Rating'),\n",
    "                    \n",
    "                    title='Voice Call Quality Rating Prediction',\n",
    "                    \n",
    "                    description= \"This application predicts the Voice Call Quality Rating based on network operator, call environment, location, and other factors. The ratings help identify network issues and improve call quality for users.\",\n",
    "                    \n",
    "                    allow_flagging='never')"
   ]
  },
  {
   "cell_type": "code",
   "execution_count": 52,
   "id": "92ea3441-48e8-4d47-afcd-cc3f8732622f",
   "metadata": {
    "scrolled": true
   },
   "outputs": [
    {
     "name": "stdout",
     "output_type": "stream",
     "text": [
      "Rerunning server... use `close()` to stop if you need to change `launch()` parameters.\n",
      "----\n",
      "* Running on public URL: https://6e5df79af95159274b.gradio.live\n",
      "\n",
      "This share link expires in 72 hours. For free permanent hosting and GPU upgrades, run `gradio deploy` from the terminal in the working directory to deploy to Hugging Face Spaces (https://huggingface.co/spaces)\n"
     ]
    },
    {
     "data": {
      "text/html": [
       "<div><iframe src=\"https://6e5df79af95159274b.gradio.live\" width=\"100%\" height=\"500\" allow=\"autoplay; camera; microphone; clipboard-read; clipboard-write;\" frameborder=\"0\" allowfullscreen></iframe></div>"
      ],
      "text/plain": [
       "<IPython.core.display.HTML object>"
      ]
     },
     "metadata": {},
     "output_type": "display_data"
    },
    {
     "data": {
      "text/plain": []
     },
     "execution_count": 52,
     "metadata": {},
     "output_type": "execute_result"
    }
   ],
   "source": [
    "# Launch this interface on local server\n",
    "\n",
    "iface.launch(share= True)"
   ]
  },
  {
   "cell_type": "code",
   "execution_count": 54,
   "id": "39b3b16f-f090-4463-81b7-b3b0bd6d988a",
   "metadata": {},
   "outputs": [
    {
     "ename": "SyntaxError",
     "evalue": "invalid syntax (316834953.py, line 1)",
     "output_type": "error",
     "traceback": [
      "\u001b[1;36m  Cell \u001b[1;32mIn[54], line 1\u001b[1;36m\u001b[0m\n\u001b[1;33m    gradio deploy\u001b[0m\n\u001b[1;37m           ^\u001b[0m\n\u001b[1;31mSyntaxError\u001b[0m\u001b[1;31m:\u001b[0m invalid syntax\n"
     ]
    }
   ],
   "source": [
    "gradio deploy"
   ]
  },
  {
   "cell_type": "code",
   "execution_count": null,
   "id": "fa2a907a-8666-4cdc-aa5a-824da089aca4",
   "metadata": {},
   "outputs": [],
   "source": []
  }
 ],
 "metadata": {
  "kernelspec": {
   "display_name": "Python 3 (ipykernel)",
   "language": "python",
   "name": "python3"
  },
  "language_info": {
   "codemirror_mode": {
    "name": "ipython",
    "version": 3
   },
   "file_extension": ".py",
   "mimetype": "text/x-python",
   "name": "python",
   "nbconvert_exporter": "python",
   "pygments_lexer": "ipython3",
   "version": "3.12.4"
  }
 },
 "nbformat": 4,
 "nbformat_minor": 5
}
